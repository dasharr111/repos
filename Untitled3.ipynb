{
 "cells": [
  {
   "cell_type": "code",
   "execution_count": 29,
   "id": "8ca9c20b",
   "metadata": {},
   "outputs": [
    {
     "ename": "SyntaxError",
     "evalue": "invalid syntax. Maybe you meant '==' or ':=' instead of '='? (2646461816.py, line 36)",
     "output_type": "error",
     "traceback": [
      "\u001b[1;36m  Cell \u001b[1;32mIn[29], line 36\u001b[1;36m\u001b[0m\n\u001b[1;33m    g = sns.boxplot(x = xfactory, y = \"Salary\"), data = salary_data, ax = axes[0,1], order = salary_data.groupby(xfactor[\"Salary\"].median(),sort_values().index)\u001b[0m\n\u001b[1;37m    ^\u001b[0m\n\u001b[1;31mSyntaxError\u001b[0m\u001b[1;31m:\u001b[0m invalid syntax. Maybe you meant '==' or ':=' instead of '='?\n"
     ]
    }
   ],
   "source": [
    "import pandas as pd\n",
    "import matplotlib.pyplot as plt\n",
    "import seaborn as sns\n",
    "salary_data = pd.read_csv('Salary_Data.csv')\n",
    "salary_data.info()\n",
    "salary_data[salary_data.isnull().any(axis=1)]\n",
    "salary_data.dropna(inplace = True)\n",
    "\n",
    "salary_data['Education Level'].value_counts()\n",
    "\n",
    "def UnifyEducationLevel(s):\n",
    "    for e in ['Bachelor','Master','PhD']:\n",
    "        if e.lower() in s.lower(): return e\n",
    "    return s\n",
    "salary_data ['Education Level'] = salary_data ['Education Level'].apply(UnifyEducationLevel)\n",
    "\n",
    "salary_data ['Education Level'].value_counts()\n",
    "\n",
    "salary_data['Age'] = salary_data['Age'].astype('int')\n",
    "\n",
    "salary_data['Years of Experience'] = salary_data['Years of Experience'].astype('int')\n",
    "\n",
    "fig,axes = plt.subplots(nrows=2,ncols =3, figsize = (12,8))\n",
    "\n",
    "salary_data['Age'].plot(kind='hist',ax=axes[0,0],title = 'Age')\n",
    "salary_data['Years of Experience'].plot(kind='hist',ax=axes[0,1],title = 'Years')\n",
    "salary_data['Salary'].plot(kind='hist',ax=axes[0,2],title = 'Salary')\n",
    "salary_data['Gender'].value_counts().plot(kind='bar',ax=axes[1,0],title = 'Gender')\n",
    "salary_data['Education Level'].value_counts().plot(kind='bar',ax=axes[1,1],title = 'Education Level')\n",
    "salary_data['Job Title'].value_counts()[:20].plot(kind='bar',ax=axes[1,2],title = 'Job Title')\n",
    "\n",
    "fig.suptitle('tablica',fontsize = 24)\n",
    "\n",
    "fig,axes = plt.subplots(nrows=2,ncols =2, figsize = (12,7))\n",
    "xfactor = \"Gender\"\n",
    "g = sns.boxplot(x = xfactory, y = \"Salary\"), data = salary_data, ax = axes[0,1], order = salary_data.groupby(xfactor[\"Salary\"].median(),sort_values().index)\n",
    "g.set(title = 'Gender',xlavel = None)\n",
    "\n",
    "plt.xticks(rotation = 90)\n",
    "g = sns.boxplot(x = xfactory, y = \"Age\", ax = axes[0,1], data = salary_data)\n",
    "g.set(title = 'Age',xlavel = None)\n",
    "fig.subtitle(\"lol\",fontsize = 24)\n",
    "plt.tight_layout()\n",
    "\n"
   ]
  },
  {
   "cell_type": "code",
   "execution_count": null,
   "id": "254c6f7c",
   "metadata": {},
   "outputs": [],
   "source": []
  }
 ],
 "metadata": {
  "kernelspec": {
   "display_name": "Python 3 (ipykernel)",
   "language": "python",
   "name": "python3"
  },
  "language_info": {
   "codemirror_mode": {
    "name": "ipython",
    "version": 3
   },
   "file_extension": ".py",
   "mimetype": "text/x-python",
   "name": "python",
   "nbconvert_exporter": "python",
   "pygments_lexer": "ipython3",
   "version": "3.11.5"
  }
 },
 "nbformat": 4,
 "nbformat_minor": 5
}
