{
 "cells": [
  {
   "cell_type": "code",
   "execution_count": 26,
   "id": "28e0ba40",
   "metadata": {},
   "outputs": [
    {
     "name": "stdout",
     "output_type": "stream",
     "text": [
      "Data:  Genesis Block\n",
      "Время Создания Блока:  2024-02-18 19:11:56.779377\n",
      "Хеш блока:  d7569680512942ef668795461ae394615ac5dfb81b45e5c2d922f5d879aeb2dd\n",
      "Хеш предыдущего блока:  0\n",
      "\n",
      "Data:  {'data': 'Transaction 1'}\n",
      "Время Создания Блока:  2024-02-18 19:11:56.779377\n",
      "Хеш блока:  b4d3d2ad175ed135996cca4865215354ce305852a9e0555405b3d527067e1be3\n",
      "Хеш предыдущего блока:  d7569680512942ef668795461ae394615ac5dfb81b45e5c2d922f5d879aeb2dd\n",
      "\n",
      "Data:  {'data': 'Transaction 2'}\n",
      "Время Создания Блока:  2024-02-18 19:11:56.779377\n",
      "Хеш блока:  a0cd924d0eaab6761584a9af87adc5c30fda56d0fe7c59c7d6daf8eff6bcd5c8\n",
      "Хеш предыдущего блока:  b4d3d2ad175ed135996cca4865215354ce305852a9e0555405b3d527067e1be3\n",
      "\n",
      "Data:  {'data': 'Transaction 3'}\n",
      "Время Создания Блока:  2024-02-18 19:11:56.779377\n",
      "Хеш блока:  5167f7744adcbbe18e3ff87fc778dbd394b522b60aef7f4fd0ea3287b113011f\n",
      "Хеш предыдущего блока:  a0cd924d0eaab6761584a9af87adc5c30fda56d0fe7c59c7d6daf8eff6bcd5c8\n",
      "\n",
      "Is chain Valid True\n"
     ]
    }
   ],
   "source": [
    "import hashlib\n",
    "import datetime\n",
    "\n",
    "class block:\n",
    "    def __init__(self, timestamp, data, previous_hash):\n",
    "        self.timestamp = timestamp\n",
    "        self.previous_hash = previous_hash\n",
    "        self.data = data\n",
    "        self.hash = self.calculate_hash()\n",
    "        \n",
    "    def calculate_hash(self):\n",
    "        hash_string = str(self.timestamp) + str(self.data) + str(self.previous_hash)\n",
    "        return hashlib.sha256(hash_string.encode()).hexdigest()\n",
    "myBlock = block(datetime.datetime.now(), {\"data\":\"Transaction 1\"},\"\")\n",
    "\n",
    "class Blockchain:\n",
    "    def __init__(self):\n",
    "        self.chain = [self.create_genesis_block()]\n",
    "        \n",
    "    def create_genesis_block(self):\n",
    "        return block(datetime.datetime.now(),\"Genesis Block\",\"0\")\n",
    "            \n",
    "    def add_block(self, new_block):\n",
    "        new_block.previous_hash = self.chain[-1].hash\n",
    "        new_block.hash = new_block.calculate_hash()\n",
    "        self.chain.append(new_block)\n",
    "        \n",
    "    def is_chain_valid(self):\n",
    "            for i in range(1,len(self.chain)):\n",
    "                current_block = self.chain[i]\n",
    "                previous_block = self.chain[i-1]\n",
    "                if current_block.hash != current_block.calculate_hash():\n",
    "                    return False\n",
    "                if current_block.previous_hash != previous_block.hash:\n",
    "                    return False\n",
    "                return True\n",
    "\n",
    "demo_blockchain = Blockchain()\n",
    "demo_blockchain.add_block(block(datetime.datetime.now(), {\"data\":\"Transaction 1\"}, \"\"))\n",
    "demo_blockchain.add_block(block(datetime.datetime.now(), {\"data\":\"Transaction 2\"}, \"\"))\n",
    "demo_blockchain.add_block(block(datetime.datetime.now(), {\"data\":\"Transaction 3\"}, \"\"))\n",
    "\n",
    "for block in demo_blockchain.chain:\n",
    "    print(\"Data: \", block.data)\n",
    "    print(\"Время Создания Блока: \", block.timestamp)\n",
    "    print(\"Хеш блока: \", block.hash)\n",
    "    print(\"Хеш предыдущего блока: \", block.previous_hash)\n",
    "    print()\n",
    "\n",
    "print(\"Is chain Valid\", demo_blockchain.is_chain_valid())     "
   ]
  },
  {
   "cell_type": "code",
   "execution_count": null,
   "id": "fe4d20fa",
   "metadata": {},
   "outputs": [],
   "source": []
  },
  {
   "cell_type": "code",
   "execution_count": null,
   "id": "4b130969",
   "metadata": {},
   "outputs": [],
   "source": []
  },
  {
   "cell_type": "code",
   "execution_count": null,
   "id": "04021913",
   "metadata": {},
   "outputs": [],
   "source": []
  }
 ],
 "metadata": {
  "kernelspec": {
   "display_name": "Python 3 (ipykernel)",
   "language": "python",
   "name": "python3"
  },
  "language_info": {
   "codemirror_mode": {
    "name": "ipython",
    "version": 3
   },
   "file_extension": ".py",
   "mimetype": "text/x-python",
   "name": "python",
   "nbconvert_exporter": "python",
   "pygments_lexer": "ipython3",
   "version": "3.11.5"
  }
 },
 "nbformat": 4,
 "nbformat_minor": 5
}
